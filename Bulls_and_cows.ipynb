{
  "nbformat": 4,
  "nbformat_minor": 0,
  "metadata": {
    "colab": {
      "provenance": [],
      "authorship_tag": "ABX9TyOrS9jD5Hd90TXur64/hwtN",
      "include_colab_link": true
    },
    "kernelspec": {
      "name": "python3",
      "display_name": "Python 3"
    },
    "language_info": {
      "name": "python"
    }
  },
  "cells": [
    {
      "cell_type": "markdown",
      "metadata": {
        "id": "view-in-github",
        "colab_type": "text"
      },
      "source": [
        "<a href=\"https://colab.research.google.com/github/HedvikaD/ENGETO_PROJEKT_2/blob/main/Bulls_and_cows.ipynb\" target=\"_parent\"><img src=\"https://colab.research.google.com/assets/colab-badge.svg\" alt=\"Open In Colab\"/></a>"
      ]
    },
    {
      "cell_type": "code",
      "execution_count": null,
      "metadata": {
        "id": "D6OX0lOo6_go"
      },
      "outputs": [],
      "source": [
        "\"\"\"\n",
        "projekt_2.py: druhý projekt do Engeto Online Python Akademie\n",
        "author: Hedvika Drechslerová\n",
        "email: hedvika.drechsler@seznam.cz\n",
        "discord: hedvika_62633\n",
        "\"\"\"\n",
        "\n",
        "import random\n",
        "import time\n",
        "\n",
        "cara = 20 * \"-\"\n",
        "\n",
        "print(\"Hi there!\")\n",
        "print(\"I've generated a random 4 digit number for you.\")\n",
        "print(\"Let's play a bulls and cows game.\")\n",
        "print (cara)\n",
        "\n",
        "\n",
        "number = '0123456789'\n",
        "number = random.sample(number, 4)\n",
        "if number [0] == '0':\n",
        "    number = random.sample(number, 4)\n",
        "number = ''.join(number)\n",
        "print(\"The number has been generated. Let's play!\")\n",
        "\n",
        "time_start = time.time()\n",
        "attempts = 0\n",
        "\n",
        "while True:\n",
        "    bulls = 0\n",
        "    cows = 0\n",
        "    attempts += 1\n",
        "    guess = input(\"Enter a number: \")\n",
        "    print(cara)\n",
        "\n",
        "\n",
        "    if len(guess) != 4:\n",
        "        print(\"The number must have 4 digits.\")\n",
        "        continue\n",
        "    if guess[0] == \"0\":\n",
        "        print(\"The number must not start with 0.\")\n",
        "        continue\n",
        "    if len(set(guess)) != 4:\n",
        "        print(\"The number must not contain duplicates.\")\n",
        "        continue\n",
        "    if not guess.isnumeric():\n",
        "        print(\"The number must contain only digits.\")\n",
        "        continue\n",
        "\n",
        "    for i in range(4):\n",
        "        if guess[i] == number[i]:\n",
        "            bulls += 1\n",
        "        elif guess[i] in number:\n",
        "            cows += 1\n",
        "\n",
        "    if bulls == 4:\n",
        "        time_end = time.time()\n",
        "        time_total = round(time_end - time_start)\n",
        "        print(f\"Correct, you've guessed the right number in {attempts} guesses.\")\n",
        "        if attempts <= 4:\n",
        "            print(f\"Your score is: {attempts} attempts, your time is: {time_total} seconds - Excellent!\")\n",
        "        elif attempts <= 8:\n",
        "            print(f\"Your score is: {attempts} attempts, your time is: {time_total} seconds- Very good!\")\n",
        "        else:\n",
        "            print(f\"Your score is: {attempts} attempts, your time is: {time_total} seconds - Not so good!\")\n",
        "        print(cara)\n",
        "        break\n",
        "\n",
        "    else:\n",
        "        print(f\"{bulls} bull{'s' if bulls != 1 else ''}, {cows} cow{'s' if cows != 1 else ''}\")"
      ]
    }
  ]
}