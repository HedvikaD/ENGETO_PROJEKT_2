{
  "nbformat": 4,
  "nbformat_minor": 0,
  "metadata": {
    "colab": {
      "provenance": [],
      "authorship_tag": "ABX9TyOrS9jD5Hd90TXur64/hwtN",
      "include_colab_link": true
    },
    "kernelspec": {
      "name": "python3",
      "display_name": "Python 3"
    },
    "language_info": {
      "name": "python"
    }
  },
  "cells": [
    {
      "cell_type": "markdown",
      "metadata": {
        "id": "view-in-github",
        "colab_type": "text"
      },
      "source": [
        "<a href=\"https://colab.research.google.com/github/HedvikaD/ENGETO_PROJEKT_2/blob/main/Bulls_and_cows.ipynb\" target=\"_parent\"><img src=\"https://colab.research.google.com/assets/colab-badge.svg\" alt=\"Open In Colab\"/></a>"
      ]
    },
    {
      "cell_type": "code",
      "execution_count": 2,
      "metadata": {
        "colab": {
          "base_uri": "https://localhost:8080/",
          "height": 495
        },
        "id": "D6OX0lOo6_go",
        "outputId": "fec6db94-6b36-4e3d-f8d6-bdc96582b717"
      },
      "outputs": [
        {
          "output_type": "stream",
          "name": "stdout",
          "text": [
            "Hi there!\n",
            "I've generated a random 4 digit number for you.\n",
            "Let's play a bulls and cows game.\n",
            "--------------------\n",
            "The number has been generated. Let's play!\n",
            "Enter a number: 2587\n",
            "--------------------\n",
            "0 bulls, 3 cows\n"
          ]
        },
        {
          "output_type": "error",
          "ename": "KeyboardInterrupt",
          "evalue": "Interrupted by user",
          "traceback": [
            "\u001b[0;31m---------------------------------------------------------------------------\u001b[0m",
            "\u001b[0;31mKeyboardInterrupt\u001b[0m                         Traceback (most recent call last)",
            "\u001b[0;32m<ipython-input-2-43da20ad8f7e>\u001b[0m in \u001b[0;36m<cell line: 29>\u001b[0;34m()\u001b[0m\n\u001b[1;32m     31\u001b[0m     \u001b[0mcows\u001b[0m \u001b[0;34m=\u001b[0m \u001b[0;36m0\u001b[0m\u001b[0;34m\u001b[0m\u001b[0;34m\u001b[0m\u001b[0m\n\u001b[1;32m     32\u001b[0m     \u001b[0mattempts\u001b[0m \u001b[0;34m+=\u001b[0m \u001b[0;36m1\u001b[0m\u001b[0;34m\u001b[0m\u001b[0;34m\u001b[0m\u001b[0m\n\u001b[0;32m---> 33\u001b[0;31m     \u001b[0mguess\u001b[0m \u001b[0;34m=\u001b[0m \u001b[0minput\u001b[0m\u001b[0;34m(\u001b[0m\u001b[0;34m\"Enter a number: \"\u001b[0m\u001b[0;34m)\u001b[0m\u001b[0;34m\u001b[0m\u001b[0;34m\u001b[0m\u001b[0m\n\u001b[0m\u001b[1;32m     34\u001b[0m     \u001b[0mprint\u001b[0m\u001b[0;34m(\u001b[0m\u001b[0mcara\u001b[0m\u001b[0;34m)\u001b[0m\u001b[0;34m\u001b[0m\u001b[0;34m\u001b[0m\u001b[0m\n\u001b[1;32m     35\u001b[0m \u001b[0;34m\u001b[0m\u001b[0m\n",
            "\u001b[0;32m/usr/local/lib/python3.10/dist-packages/ipykernel/kernelbase.py\u001b[0m in \u001b[0;36mraw_input\u001b[0;34m(self, prompt)\u001b[0m\n\u001b[1;32m    849\u001b[0m                 \u001b[0;34m\"raw_input was called, but this frontend does not support input requests.\"\u001b[0m\u001b[0;34m\u001b[0m\u001b[0;34m\u001b[0m\u001b[0m\n\u001b[1;32m    850\u001b[0m             )\n\u001b[0;32m--> 851\u001b[0;31m         return self._input_request(str(prompt),\n\u001b[0m\u001b[1;32m    852\u001b[0m             \u001b[0mself\u001b[0m\u001b[0;34m.\u001b[0m\u001b[0m_parent_ident\u001b[0m\u001b[0;34m,\u001b[0m\u001b[0;34m\u001b[0m\u001b[0;34m\u001b[0m\u001b[0m\n\u001b[1;32m    853\u001b[0m             \u001b[0mself\u001b[0m\u001b[0;34m.\u001b[0m\u001b[0m_parent_header\u001b[0m\u001b[0;34m,\u001b[0m\u001b[0;34m\u001b[0m\u001b[0;34m\u001b[0m\u001b[0m\n",
            "\u001b[0;32m/usr/local/lib/python3.10/dist-packages/ipykernel/kernelbase.py\u001b[0m in \u001b[0;36m_input_request\u001b[0;34m(self, prompt, ident, parent, password)\u001b[0m\n\u001b[1;32m    893\u001b[0m             \u001b[0;32mexcept\u001b[0m \u001b[0mKeyboardInterrupt\u001b[0m\u001b[0;34m:\u001b[0m\u001b[0;34m\u001b[0m\u001b[0;34m\u001b[0m\u001b[0m\n\u001b[1;32m    894\u001b[0m                 \u001b[0;31m# re-raise KeyboardInterrupt, to truncate traceback\u001b[0m\u001b[0;34m\u001b[0m\u001b[0;34m\u001b[0m\u001b[0m\n\u001b[0;32m--> 895\u001b[0;31m                 \u001b[0;32mraise\u001b[0m \u001b[0mKeyboardInterrupt\u001b[0m\u001b[0;34m(\u001b[0m\u001b[0;34m\"Interrupted by user\"\u001b[0m\u001b[0;34m)\u001b[0m \u001b[0;32mfrom\u001b[0m \u001b[0;32mNone\u001b[0m\u001b[0;34m\u001b[0m\u001b[0;34m\u001b[0m\u001b[0m\n\u001b[0m\u001b[1;32m    896\u001b[0m             \u001b[0;32mexcept\u001b[0m \u001b[0mException\u001b[0m \u001b[0;32mas\u001b[0m \u001b[0me\u001b[0m\u001b[0;34m:\u001b[0m\u001b[0;34m\u001b[0m\u001b[0;34m\u001b[0m\u001b[0m\n\u001b[1;32m    897\u001b[0m                 \u001b[0mself\u001b[0m\u001b[0;34m.\u001b[0m\u001b[0mlog\u001b[0m\u001b[0;34m.\u001b[0m\u001b[0mwarning\u001b[0m\u001b[0;34m(\u001b[0m\u001b[0;34m\"Invalid Message:\"\u001b[0m\u001b[0;34m,\u001b[0m \u001b[0mexc_info\u001b[0m\u001b[0;34m=\u001b[0m\u001b[0;32mTrue\u001b[0m\u001b[0;34m)\u001b[0m\u001b[0;34m\u001b[0m\u001b[0;34m\u001b[0m\u001b[0m\n",
            "\u001b[0;31mKeyboardInterrupt\u001b[0m: Interrupted by user"
          ]
        }
      ],
      "source": [
        "\"\"\"\n",
        "projekt_2.py: druhý projekt do Engeto Online Python Akademie\n",
        "author: Hedvika Drechslerová\n",
        "email: hedvika.drechsler@seznam.cz\n",
        "discord: hedvika_62633\n",
        "\"\"\"\n",
        "\n",
        "import random\n",
        "import time\n",
        "\n",
        "cara = 20 * \"-\"\n",
        "\n",
        "print(\"Hi there!\")\n",
        "print(\"I've generated a random 4 digit number for you.\")\n",
        "print(\"Let's play a bulls and cows game.\")\n",
        "print (cara)\n",
        "\n",
        "\n",
        "number = '0123456789'\n",
        "number = random.sample(number, 4)\n",
        "if number [0] == '0':\n",
        "    number = random.sample(number, 4)\n",
        "number = ''.join(number)\n",
        "print(\"The number has been generated. Let's play!\")\n",
        "\n",
        "time_start = time.time()\n",
        "attempts = 0\n",
        "\n",
        "while True:\n",
        "    bulls = 0\n",
        "    cows = 0\n",
        "    attempts += 1\n",
        "    guess = input(\"Enter a number: \")\n",
        "    print(cara)\n",
        "\n",
        "\n",
        "    if len(guess) != 4:\n",
        "        print(\"The number must have 4 digits.\")\n",
        "        continue\n",
        "    if guess[0] == \"0\":\n",
        "        print(\"The number must not start with 0.\")\n",
        "        continue\n",
        "    if len(set(guess)) != 4:\n",
        "        print(\"The number must not contain duplicates.\")\n",
        "        continue\n",
        "    if not guess.isnumeric():\n",
        "        print(\"The number must contain only digits.\")\n",
        "        continue\n",
        "\n",
        "    for i in range(4):\n",
        "        if guess[i] == number[i]:\n",
        "            bulls += 1\n",
        "        elif guess[i] in number:\n",
        "            cows += 1\n",
        "\n",
        "    if bulls == 4:\n",
        "        time_end = time.time()\n",
        "        time_total = round(time_end - time_start)\n",
        "        print(f\"Correct, you've guessed the right number in {attempts} guesses.\")\n",
        "        if attempts <= 4:\n",
        "            print(f\"Your score is: {attempts} attempts, your time is: {time_total} seconds - Excellent!\")\n",
        "        elif attempts <= 8:\n",
        "            print(f\"Your score is: {attempts} attempts, your time is: {time_total} seconds- Very good!\")\n",
        "        else:\n",
        "            print(f\"Your score is: {attempts} attempts, your time is: {time_total} seconds - Not so good!\")\n",
        "        print(cara)\n",
        "        break\n",
        "\n",
        "    else:\n",
        "        print(f\"{bulls} bull{'s' if bulls != 1 else ''}, {cows} cow{'s' if cows != 1 else ''}\")"
      ]
    }
  ]
}